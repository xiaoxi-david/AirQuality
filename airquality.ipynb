{
  "nbformat": 4,
  "nbformat_minor": 0,
  "metadata": {
    "kernelspec": {
      "display_name": "Python 3",
      "language": "python",
      "name": "python3"
    },
    "language_info": {
      "codemirror_mode": {
        "name": "ipython",
        "version": 3
      },
      "file_extension": ".py",
      "mimetype": "text/x-python",
      "name": "python",
      "nbconvert_exporter": "python",
      "pygments_lexer": "ipython3",
      "version": "3.8.5"
    },
    "toc": {
      "base_numbering": 1,
      "nav_menu": {},
      "number_sections": true,
      "sideBar": true,
      "skip_h1_title": false,
      "title_cell": "Table of Contents",
      "title_sidebar": "Contents",
      "toc_cell": false,
      "toc_position": {},
      "toc_section_display": true,
      "toc_window_display": false
    },
    "varInspector": {
      "cols": {
        "lenName": 16,
        "lenType": 16,
        "lenVar": 40
      },
      "kernels_config": {
        "python": {
          "delete_cmd_postfix": "",
          "delete_cmd_prefix": "del ",
          "library": "var_list.py",
          "varRefreshCmd": "print(var_dic_list())"
        },
        "r": {
          "delete_cmd_postfix": ") ",
          "delete_cmd_prefix": "rm(",
          "library": "var_list.r",
          "varRefreshCmd": "cat(var_dic_list()) "
        }
      },
      "types_to_exclude": [
        "module",
        "function",
        "builtin_function_or_method",
        "instance",
        "_Feature"
      ],
      "window_display": false
    },
    "colab": {
      "name": "Copia de airquality.ipynb",
      "provenance": []
    }
  },
  "cells": [
    {
      "cell_type": "markdown",
      "metadata": {
        "id": "5qu4dZ9Y5_BW"
      },
      "source": [
        "# EDA for Air quality dataset"
      ]
    },
    {
      "cell_type": "markdown",
      "metadata": {
        "id": "KcfS9fsd5_BW"
      },
      "source": [
        "## 1. Import libraries"
      ]
    },
    {
      "cell_type": "code",
      "metadata": {
        "id": "eWiaE61a5_BW"
      },
      "source": [
        "import pandas as pd"
      ],
      "execution_count": null,
      "outputs": []
    },
    {
      "cell_type": "code",
      "metadata": {
        "id": "WbxiFk635_BX"
      },
      "source": [
        "csv_path = \"https://raw.githubusercontent.com/xiaoxi-david/AirQuality/master/airquality.csv\""
      ],
      "execution_count": null,
      "outputs": []
    },
    {
      "cell_type": "markdown",
      "metadata": {
        "id": "z6Q3FGx35_BX"
      },
      "source": [
        "## 2. Load data"
      ]
    },
    {
      "cell_type": "code",
      "metadata": {
        "id": "kUx8adUJ5_BX"
      },
      "source": [
        "airquality = pd.read_csv(csv_path)"
      ],
      "execution_count": null,
      "outputs": []
    },
    {
      "cell_type": "markdown",
      "metadata": {
        "id": "QUADZRzz5_BX"
      },
      "source": [
        "## 3. Analysis of metadata"
      ]
    },
    {
      "cell_type": "markdown",
      "metadata": {
        "id": "geNnXvvx5_BX"
      },
      "source": [
        "**Action plan**\r\n",
        "1. Check column names\r\n",
        "2. Check dtypes"
      ]
    },
    {
      "cell_type": "code",
      "metadata": {
        "colab": {
          "base_uri": "https://localhost:8080/",
          "height": 208
        },
        "id": "_ToIP_Ps5_BX",
        "outputId": "3a9e35d1-ea8b-4e92-97ba-e8591629ee1d"
      },
      "source": [
        "(\r\n",
        "    airquality.sample(10, random_state=42)\r\n",
        "    .dropna()\r\n",
        "    .style.hide_index()\r\n",
        "    .background_gradient(subset=['Solar.R', 'Temp'], cmap='YlOrBr')\r\n",
        "    .background_gradient(subset=['Ozone', 'Wind'], cmap='PuBu')\r\n",
        ")"
      ],
      "execution_count": null,
      "outputs": [
        {
          "output_type": "execute_result",
          "data": {
            "text/html": [
              "<style  type=\"text/css\" >\n",
              "#T_3292d69e_3549_11eb_9a10_0242ac1c0002row0_col0{\n",
              "            background-color:  #2a88bc;\n",
              "            color:  #000000;\n",
              "        }#T_3292d69e_3549_11eb_9a10_0242ac1c0002row0_col1{\n",
              "            background-color:  #983404;\n",
              "            color:  #f1f1f1;\n",
              "        }#T_3292d69e_3549_11eb_9a10_0242ac1c0002row0_col2,#T_3292d69e_3549_11eb_9a10_0242ac1c0002row1_col2{\n",
              "            background-color:  #75a9cf;\n",
              "            color:  #000000;\n",
              "        }#T_3292d69e_3549_11eb_9a10_0242ac1c0002row0_col3,#T_3292d69e_3549_11eb_9a10_0242ac1c0002row7_col1{\n",
              "            background-color:  #662506;\n",
              "            color:  #f1f1f1;\n",
              "        }#T_3292d69e_3549_11eb_9a10_0242ac1c0002row1_col0{\n",
              "            background-color:  #f6eff7;\n",
              "            color:  #000000;\n",
              "        }#T_3292d69e_3549_11eb_9a10_0242ac1c0002row1_col1{\n",
              "            background-color:  #fee79a;\n",
              "            color:  #000000;\n",
              "        }#T_3292d69e_3549_11eb_9a10_0242ac1c0002row1_col3{\n",
              "            background-color:  #b03f03;\n",
              "            color:  #f1f1f1;\n",
              "        }#T_3292d69e_3549_11eb_9a10_0242ac1c0002row2_col0{\n",
              "            background-color:  #bdc8e1;\n",
              "            color:  #000000;\n",
              "        }#T_3292d69e_3549_11eb_9a10_0242ac1c0002row2_col1{\n",
              "            background-color:  #eb6f14;\n",
              "            color:  #000000;\n",
              "        }#T_3292d69e_3549_11eb_9a10_0242ac1c0002row2_col2{\n",
              "            background-color:  #1c7fb8;\n",
              "            color:  #000000;\n",
              "        }#T_3292d69e_3549_11eb_9a10_0242ac1c0002row2_col3,#T_3292d69e_3549_11eb_9a10_0242ac1c0002row3_col3{\n",
              "            background-color:  #dd5f0c;\n",
              "            color:  #000000;\n",
              "        }#T_3292d69e_3549_11eb_9a10_0242ac1c0002row3_col0,#T_3292d69e_3549_11eb_9a10_0242ac1c0002row6_col2,#T_3292d69e_3549_11eb_9a10_0242ac1c0002row7_col2{\n",
              "            background-color:  #023858;\n",
              "            color:  #f1f1f1;\n",
              "        }#T_3292d69e_3549_11eb_9a10_0242ac1c0002row3_col1{\n",
              "            background-color:  #e2650f;\n",
              "            color:  #000000;\n",
              "        }#T_3292d69e_3549_11eb_9a10_0242ac1c0002row3_col2,#T_3292d69e_3549_11eb_9a10_0242ac1c0002row7_col0{\n",
              "            background-color:  #fff7fb;\n",
              "            color:  #000000;\n",
              "        }#T_3292d69e_3549_11eb_9a10_0242ac1c0002row4_col0{\n",
              "            background-color:  #81aed2;\n",
              "            color:  #000000;\n",
              "        }#T_3292d69e_3549_11eb_9a10_0242ac1c0002row4_col1{\n",
              "            background-color:  #a33904;\n",
              "            color:  #f1f1f1;\n",
              "        }#T_3292d69e_3549_11eb_9a10_0242ac1c0002row4_col2{\n",
              "            background-color:  #f0eaf4;\n",
              "            color:  #000000;\n",
              "        }#T_3292d69e_3549_11eb_9a10_0242ac1c0002row4_col3{\n",
              "            background-color:  #8b3005;\n",
              "            color:  #f1f1f1;\n",
              "        }#T_3292d69e_3549_11eb_9a10_0242ac1c0002row5_col0{\n",
              "            background-color:  #fcf4fa;\n",
              "            color:  #000000;\n",
              "        }#T_3292d69e_3549_11eb_9a10_0242ac1c0002row5_col1,#T_3292d69e_3549_11eb_9a10_0242ac1c0002row7_col3{\n",
              "            background-color:  #ffffe5;\n",
              "            color:  #000000;\n",
              "        }#T_3292d69e_3549_11eb_9a10_0242ac1c0002row5_col2{\n",
              "            background-color:  #dad9ea;\n",
              "            color:  #000000;\n",
              "        }#T_3292d69e_3549_11eb_9a10_0242ac1c0002row5_col3{\n",
              "            background-color:  #fea937;\n",
              "            color:  #000000;\n",
              "        }#T_3292d69e_3549_11eb_9a10_0242ac1c0002row6_col0{\n",
              "            background-color:  #e5e1ef;\n",
              "            color:  #000000;\n",
              "        }#T_3292d69e_3549_11eb_9a10_0242ac1c0002row6_col1{\n",
              "            background-color:  #742905;\n",
              "            color:  #f1f1f1;\n",
              "        }#T_3292d69e_3549_11eb_9a10_0242ac1c0002row6_col3{\n",
              "            background-color:  #ffeea9;\n",
              "            color:  #000000;\n",
              "        }</style><table id=\"T_3292d69e_3549_11eb_9a10_0242ac1c0002\" ><thead>    <tr>        <th class=\"col_heading level0 col0\" >Ozone</th>        <th class=\"col_heading level0 col1\" >Solar.R</th>        <th class=\"col_heading level0 col2\" >Wind</th>        <th class=\"col_heading level0 col3\" >Temp</th>        <th class=\"col_heading level0 col4\" >Month</th>        <th class=\"col_heading level0 col5\" >Day</th>    </tr></thead><tbody>\n",
              "                <tr>\n",
              "                                <td id=\"T_3292d69e_3549_11eb_9a10_0242ac1c0002row0_col0\" class=\"data row0 col0\" >80.000000</td>\n",
              "                        <td id=\"T_3292d69e_3549_11eb_9a10_0242ac1c0002row0_col1\" class=\"data row0 col1\" >294.000000</td>\n",
              "                        <td id=\"T_3292d69e_3549_11eb_9a10_0242ac1c0002row0_col2\" class=\"data row0 col2\" >8.600000</td>\n",
              "                        <td id=\"T_3292d69e_3549_11eb_9a10_0242ac1c0002row0_col3\" class=\"data row0 col3\" >86</td>\n",
              "                        <td id=\"T_3292d69e_3549_11eb_9a10_0242ac1c0002row0_col4\" class=\"data row0 col4\" >7</td>\n",
              "                        <td id=\"T_3292d69e_3549_11eb_9a10_0242ac1c0002row0_col5\" class=\"data row0 col5\" >24</td>\n",
              "            </tr>\n",
              "            <tr>\n",
              "                                <td id=\"T_3292d69e_3549_11eb_9a10_0242ac1c0002row1_col0\" class=\"data row1 col0\" >20.000000</td>\n",
              "                        <td id=\"T_3292d69e_3549_11eb_9a10_0242ac1c0002row1_col1\" class=\"data row1 col1\" >81.000000</td>\n",
              "                        <td id=\"T_3292d69e_3549_11eb_9a10_0242ac1c0002row1_col2\" class=\"data row1 col2\" >8.600000</td>\n",
              "                        <td id=\"T_3292d69e_3549_11eb_9a10_0242ac1c0002row1_col3\" class=\"data row1 col3\" >82</td>\n",
              "                        <td id=\"T_3292d69e_3549_11eb_9a10_0242ac1c0002row1_col4\" class=\"data row1 col4\" >7</td>\n",
              "                        <td id=\"T_3292d69e_3549_11eb_9a10_0242ac1c0002row1_col5\" class=\"data row1 col5\" >26</td>\n",
              "            </tr>\n",
              "            <tr>\n",
              "                                <td id=\"T_3292d69e_3549_11eb_9a10_0242ac1c0002row2_col0\" class=\"data row2 col0\" >45.000000</td>\n",
              "                        <td id=\"T_3292d69e_3549_11eb_9a10_0242ac1c0002row2_col1\" class=\"data row2 col1\" >212.000000</td>\n",
              "                        <td id=\"T_3292d69e_3549_11eb_9a10_0242ac1c0002row2_col2\" class=\"data row2 col2\" >9.700000</td>\n",
              "                        <td id=\"T_3292d69e_3549_11eb_9a10_0242ac1c0002row2_col3\" class=\"data row2 col3\" >79</td>\n",
              "                        <td id=\"T_3292d69e_3549_11eb_9a10_0242ac1c0002row2_col4\" class=\"data row2 col4\" >8</td>\n",
              "                        <td id=\"T_3292d69e_3549_11eb_9a10_0242ac1c0002row2_col5\" class=\"data row2 col5\" >24</td>\n",
              "            </tr>\n",
              "            <tr>\n",
              "                                <td id=\"T_3292d69e_3549_11eb_9a10_0242ac1c0002row3_col0\" class=\"data row3 col0\" >115.000000</td>\n",
              "                        <td id=\"T_3292d69e_3549_11eb_9a10_0242ac1c0002row3_col1\" class=\"data row3 col1\" >223.000000</td>\n",
              "                        <td id=\"T_3292d69e_3549_11eb_9a10_0242ac1c0002row3_col2\" class=\"data row3 col2\" >5.700000</td>\n",
              "                        <td id=\"T_3292d69e_3549_11eb_9a10_0242ac1c0002row3_col3\" class=\"data row3 col3\" >79</td>\n",
              "                        <td id=\"T_3292d69e_3549_11eb_9a10_0242ac1c0002row3_col4\" class=\"data row3 col4\" >5</td>\n",
              "                        <td id=\"T_3292d69e_3549_11eb_9a10_0242ac1c0002row3_col5\" class=\"data row3 col5\" >30</td>\n",
              "            </tr>\n",
              "            <tr>\n",
              "                                <td id=\"T_3292d69e_3549_11eb_9a10_0242ac1c0002row4_col0\" class=\"data row4 col0\" >61.000000</td>\n",
              "                        <td id=\"T_3292d69e_3549_11eb_9a10_0242ac1c0002row4_col1\" class=\"data row4 col1\" >285.000000</td>\n",
              "                        <td id=\"T_3292d69e_3549_11eb_9a10_0242ac1c0002row4_col2\" class=\"data row4 col2\" >6.300000</td>\n",
              "                        <td id=\"T_3292d69e_3549_11eb_9a10_0242ac1c0002row4_col3\" class=\"data row4 col3\" >84</td>\n",
              "                        <td id=\"T_3292d69e_3549_11eb_9a10_0242ac1c0002row4_col4\" class=\"data row4 col4\" >7</td>\n",
              "                        <td id=\"T_3292d69e_3549_11eb_9a10_0242ac1c0002row4_col5\" class=\"data row4 col5\" >18</td>\n",
              "            </tr>\n",
              "            <tr>\n",
              "                                <td id=\"T_3292d69e_3549_11eb_9a10_0242ac1c0002row5_col0\" class=\"data row5 col0\" >16.000000</td>\n",
              "                        <td id=\"T_3292d69e_3549_11eb_9a10_0242ac1c0002row5_col1\" class=\"data row5 col1\" >7.000000</td>\n",
              "                        <td id=\"T_3292d69e_3549_11eb_9a10_0242ac1c0002row5_col2\" class=\"data row5 col2\" >6.900000</td>\n",
              "                        <td id=\"T_3292d69e_3549_11eb_9a10_0242ac1c0002row5_col3\" class=\"data row5 col3\" >74</td>\n",
              "                        <td id=\"T_3292d69e_3549_11eb_9a10_0242ac1c0002row5_col4\" class=\"data row5 col4\" >7</td>\n",
              "                        <td id=\"T_3292d69e_3549_11eb_9a10_0242ac1c0002row5_col5\" class=\"data row5 col5\" >21</td>\n",
              "            </tr>\n",
              "            <tr>\n",
              "                                <td id=\"T_3292d69e_3549_11eb_9a10_0242ac1c0002row6_col0\" class=\"data row6 col0\" >30.000000</td>\n",
              "                        <td id=\"T_3292d69e_3549_11eb_9a10_0242ac1c0002row6_col1\" class=\"data row6 col1\" >322.000000</td>\n",
              "                        <td id=\"T_3292d69e_3549_11eb_9a10_0242ac1c0002row6_col2\" class=\"data row6 col2\" >11.500000</td>\n",
              "                        <td id=\"T_3292d69e_3549_11eb_9a10_0242ac1c0002row6_col3\" class=\"data row6 col3\" >68</td>\n",
              "                        <td id=\"T_3292d69e_3549_11eb_9a10_0242ac1c0002row6_col4\" class=\"data row6 col4\" >5</td>\n",
              "                        <td id=\"T_3292d69e_3549_11eb_9a10_0242ac1c0002row6_col5\" class=\"data row6 col5\" >19</td>\n",
              "            </tr>\n",
              "            <tr>\n",
              "                                <td id=\"T_3292d69e_3549_11eb_9a10_0242ac1c0002row7_col0\" class=\"data row7 col0\" >14.000000</td>\n",
              "                        <td id=\"T_3292d69e_3549_11eb_9a10_0242ac1c0002row7_col1\" class=\"data row7 col1\" >334.000000</td>\n",
              "                        <td id=\"T_3292d69e_3549_11eb_9a10_0242ac1c0002row7_col2\" class=\"data row7 col2\" >11.500000</td>\n",
              "                        <td id=\"T_3292d69e_3549_11eb_9a10_0242ac1c0002row7_col3\" class=\"data row7 col3\" >64</td>\n",
              "                        <td id=\"T_3292d69e_3549_11eb_9a10_0242ac1c0002row7_col4\" class=\"data row7 col4\" >5</td>\n",
              "                        <td id=\"T_3292d69e_3549_11eb_9a10_0242ac1c0002row7_col5\" class=\"data row7 col5\" >16</td>\n",
              "            </tr>\n",
              "    </tbody></table>"
            ],
            "text/plain": [
              "<pandas.io.formats.style.Styler at 0x7f24b17f9e10>"
            ]
          },
          "metadata": {
            "tags": []
          },
          "execution_count": 9
        }
      ]
    },
    {
      "cell_type": "code",
      "metadata": {
        "colab": {
          "base_uri": "https://localhost:8080/"
        },
        "id": "0c5_kpHG5_BY",
        "outputId": "c1bca31b-b415-4847-f4e1-fa084bfd31e9"
      },
      "source": [
        "airquality.info()"
      ],
      "execution_count": null,
      "outputs": [
        {
          "output_type": "stream",
          "text": [
            "<class 'pandas.core.frame.DataFrame'>\n",
            "RangeIndex: 153 entries, 0 to 152\n",
            "Data columns (total 6 columns):\n",
            " #   Column   Non-Null Count  Dtype  \n",
            "---  ------   --------------  -----  \n",
            " 0   Ozone    116 non-null    float64\n",
            " 1   Solar.R  146 non-null    float64\n",
            " 2   Wind     153 non-null    float64\n",
            " 3   Temp     153 non-null    int64  \n",
            " 4   Month    153 non-null    int64  \n",
            " 5   Day      153 non-null    int64  \n",
            "dtypes: float64(3), int64(3)\n",
            "memory usage: 7.3 KB\n"
          ],
          "name": "stdout"
        }
      ]
    }
  ]
}