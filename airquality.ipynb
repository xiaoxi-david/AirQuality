{
 "cells": [
  {
   "cell_type": "code",
   "execution_count": 41,
   "metadata": {},
   "outputs": [],
   "source": [
    "import pandas as pd\n",
    "import numpy as np\n",
    "import matplotlib.pyplot as plt\n",
    "import seaborn as sns\n",
    "plt.style.use('seaborn')\n",
    "%matplotlib inline"
   ]
  },
  {
   "cell_type": "code",
   "execution_count": 2,
   "metadata": {},
   "outputs": [],
   "source": [
    "with open(\"airquality.csv\") as f:\n",
    "    airquality = pd.read_csv(\"airquality.csv\").convert_dtypes()"
   ]
  },
  {
   "cell_type": "code",
   "execution_count": 3,
   "metadata": {},
   "outputs": [
    {
     "data": {
      "text/html": [
       "<style  type=\"text/css\" >\n",
       "</style><table id=\"T_aec1f8a0_33d0_11eb_9378_d1e8cc3aa325\" ><thead>    <tr>        <th class=\"col_heading level0 col0\" >Ozone</th>        <th class=\"col_heading level0 col1\" >Solar.R</th>        <th class=\"col_heading level0 col2\" >Wind</th>        <th class=\"col_heading level0 col3\" >Temp</th>        <th class=\"col_heading level0 col4\" >Month</th>        <th class=\"col_heading level0 col5\" >Day</th>    </tr></thead><tbody>\n",
       "                <tr>\n",
       "                                <td id=\"T_aec1f8a0_33d0_11eb_9378_d1e8cc3aa325row0_col0\" class=\"data row0 col0\" >41</td>\n",
       "                        <td id=\"T_aec1f8a0_33d0_11eb_9378_d1e8cc3aa325row0_col1\" class=\"data row0 col1\" >190</td>\n",
       "                        <td id=\"T_aec1f8a0_33d0_11eb_9378_d1e8cc3aa325row0_col2\" class=\"data row0 col2\" >7.400000</td>\n",
       "                        <td id=\"T_aec1f8a0_33d0_11eb_9378_d1e8cc3aa325row0_col3\" class=\"data row0 col3\" >67</td>\n",
       "                        <td id=\"T_aec1f8a0_33d0_11eb_9378_d1e8cc3aa325row0_col4\" class=\"data row0 col4\" >5</td>\n",
       "                        <td id=\"T_aec1f8a0_33d0_11eb_9378_d1e8cc3aa325row0_col5\" class=\"data row0 col5\" >1</td>\n",
       "            </tr>\n",
       "            <tr>\n",
       "                                <td id=\"T_aec1f8a0_33d0_11eb_9378_d1e8cc3aa325row1_col0\" class=\"data row1 col0\" >36</td>\n",
       "                        <td id=\"T_aec1f8a0_33d0_11eb_9378_d1e8cc3aa325row1_col1\" class=\"data row1 col1\" >118</td>\n",
       "                        <td id=\"T_aec1f8a0_33d0_11eb_9378_d1e8cc3aa325row1_col2\" class=\"data row1 col2\" >8.000000</td>\n",
       "                        <td id=\"T_aec1f8a0_33d0_11eb_9378_d1e8cc3aa325row1_col3\" class=\"data row1 col3\" >72</td>\n",
       "                        <td id=\"T_aec1f8a0_33d0_11eb_9378_d1e8cc3aa325row1_col4\" class=\"data row1 col4\" >5</td>\n",
       "                        <td id=\"T_aec1f8a0_33d0_11eb_9378_d1e8cc3aa325row1_col5\" class=\"data row1 col5\" >2</td>\n",
       "            </tr>\n",
       "            <tr>\n",
       "                                <td id=\"T_aec1f8a0_33d0_11eb_9378_d1e8cc3aa325row2_col0\" class=\"data row2 col0\" >12</td>\n",
       "                        <td id=\"T_aec1f8a0_33d0_11eb_9378_d1e8cc3aa325row2_col1\" class=\"data row2 col1\" >149</td>\n",
       "                        <td id=\"T_aec1f8a0_33d0_11eb_9378_d1e8cc3aa325row2_col2\" class=\"data row2 col2\" >12.600000</td>\n",
       "                        <td id=\"T_aec1f8a0_33d0_11eb_9378_d1e8cc3aa325row2_col3\" class=\"data row2 col3\" >74</td>\n",
       "                        <td id=\"T_aec1f8a0_33d0_11eb_9378_d1e8cc3aa325row2_col4\" class=\"data row2 col4\" >5</td>\n",
       "                        <td id=\"T_aec1f8a0_33d0_11eb_9378_d1e8cc3aa325row2_col5\" class=\"data row2 col5\" >3</td>\n",
       "            </tr>\n",
       "            <tr>\n",
       "                                <td id=\"T_aec1f8a0_33d0_11eb_9378_d1e8cc3aa325row3_col0\" class=\"data row3 col0\" >18</td>\n",
       "                        <td id=\"T_aec1f8a0_33d0_11eb_9378_d1e8cc3aa325row3_col1\" class=\"data row3 col1\" >313</td>\n",
       "                        <td id=\"T_aec1f8a0_33d0_11eb_9378_d1e8cc3aa325row3_col2\" class=\"data row3 col2\" >11.500000</td>\n",
       "                        <td id=\"T_aec1f8a0_33d0_11eb_9378_d1e8cc3aa325row3_col3\" class=\"data row3 col3\" >62</td>\n",
       "                        <td id=\"T_aec1f8a0_33d0_11eb_9378_d1e8cc3aa325row3_col4\" class=\"data row3 col4\" >5</td>\n",
       "                        <td id=\"T_aec1f8a0_33d0_11eb_9378_d1e8cc3aa325row3_col5\" class=\"data row3 col5\" >4</td>\n",
       "            </tr>\n",
       "            <tr>\n",
       "                                <td id=\"T_aec1f8a0_33d0_11eb_9378_d1e8cc3aa325row4_col0\" class=\"data row4 col0\" ><NA></td>\n",
       "                        <td id=\"T_aec1f8a0_33d0_11eb_9378_d1e8cc3aa325row4_col1\" class=\"data row4 col1\" ><NA></td>\n",
       "                        <td id=\"T_aec1f8a0_33d0_11eb_9378_d1e8cc3aa325row4_col2\" class=\"data row4 col2\" >14.300000</td>\n",
       "                        <td id=\"T_aec1f8a0_33d0_11eb_9378_d1e8cc3aa325row4_col3\" class=\"data row4 col3\" >56</td>\n",
       "                        <td id=\"T_aec1f8a0_33d0_11eb_9378_d1e8cc3aa325row4_col4\" class=\"data row4 col4\" >5</td>\n",
       "                        <td id=\"T_aec1f8a0_33d0_11eb_9378_d1e8cc3aa325row4_col5\" class=\"data row4 col5\" >5</td>\n",
       "            </tr>\n",
       "    </tbody></table>"
      ],
      "text/plain": [
       "<pandas.io.formats.style.Styler at 0x7f45f8f71a10>"
      ]
     },
     "execution_count": 3,
     "metadata": {},
     "output_type": "execute_result"
    }
   ],
   "source": [
    "(\n",
    "    airquality.head()\n",
    "    .style.hide_index()\n",
    ")"
   ]
  },
  {
   "cell_type": "code",
   "execution_count": 4,
   "metadata": {},
   "outputs": [
    {
     "name": "stdout",
     "output_type": "stream",
     "text": [
      "<class 'pandas.core.frame.DataFrame'>\n",
      "RangeIndex: 153 entries, 0 to 152\n",
      "Data columns (total 6 columns):\n",
      " #   Column   Non-Null Count  Dtype  \n",
      "---  ------   --------------  -----  \n",
      " 0   Ozone    116 non-null    Int64  \n",
      " 1   Solar.R  146 non-null    Int64  \n",
      " 2   Wind     153 non-null    float64\n",
      " 3   Temp     153 non-null    Int64  \n",
      " 4   Month    153 non-null    Int64  \n",
      " 5   Day      153 non-null    Int64  \n",
      "dtypes: Int64(5), float64(1)\n",
      "memory usage: 8.0 KB\n"
     ]
    }
   ],
   "source": [
    "airquality.info()"
   ]
  },
  {
   "cell_type": "markdown",
   "metadata": {},
   "source": [
    "### Prueba\n",
    "\n",
    "Esto es una prueba realizar por GMR para ver si deja hacer push en un repositorio de otro usuario."
   ]
  },
  {
   "cell_type": "markdown",
   "metadata": {},
   "source": [
    "#### Background_gradient Pandas"
   ]
  },
  {
   "cell_type": "code",
   "execution_count": 5,
   "metadata": {},
   "outputs": [
    {
     "data": {
      "text/html": [
       "<style  type=\"text/css\" >\n",
       "#T_bf26b104_33d0_11eb_9378_d1e8cc3aa325row0_col0{\n",
       "            background-color:  #c1cae2;\n",
       "            color:  #000000;\n",
       "        }#T_bf26b104_33d0_11eb_9378_d1e8cc3aa325row0_col1{\n",
       "            background-color:  #f07818;\n",
       "            color:  #000000;\n",
       "        }#T_bf26b104_33d0_11eb_9378_d1e8cc3aa325row0_col2{\n",
       "            background-color:  #e1dfed;\n",
       "            color:  #000000;\n",
       "        }#T_bf26b104_33d0_11eb_9378_d1e8cc3aa325row0_col3{\n",
       "            background-color:  #ffefaa;\n",
       "            color:  #000000;\n",
       "        }#T_bf26b104_33d0_11eb_9378_d1e8cc3aa325row1_col0{\n",
       "            background-color:  #f9f2f8;\n",
       "            color:  #000000;\n",
       "        }#T_bf26b104_33d0_11eb_9378_d1e8cc3aa325row1_col1,#T_bf26b104_33d0_11eb_9378_d1e8cc3aa325row3_col3{\n",
       "            background-color:  #ffffe5;\n",
       "            color:  #000000;\n",
       "        }#T_bf26b104_33d0_11eb_9378_d1e8cc3aa325row1_col2{\n",
       "            background-color:  #f1ebf4;\n",
       "            color:  #000000;\n",
       "        }#T_bf26b104_33d0_11eb_9378_d1e8cc3aa325row1_col3,#T_bf26b104_33d0_11eb_9378_d1e8cc3aa325row2_col3{\n",
       "            background-color:  #feb23f;\n",
       "            color:  #000000;\n",
       "        }#T_bf26b104_33d0_11eb_9378_d1e8cc3aa325row2_col0,#T_bf26b104_33d0_11eb_9378_d1e8cc3aa325row5_col2{\n",
       "            background-color:  #fff7fb;\n",
       "            color:  #000000;\n",
       "        }#T_bf26b104_33d0_11eb_9378_d1e8cc3aa325row2_col1{\n",
       "            background-color:  #fea634;\n",
       "            color:  #000000;\n",
       "        }#T_bf26b104_33d0_11eb_9378_d1e8cc3aa325row2_col2,#T_bf26b104_33d0_11eb_9378_d1e8cc3aa325row6_col0{\n",
       "            background-color:  #023858;\n",
       "            color:  #f1f1f1;\n",
       "        }#T_bf26b104_33d0_11eb_9378_d1e8cc3aa325row3_col0{\n",
       "            background-color:  #f6eff7;\n",
       "            color:  #000000;\n",
       "        }#T_bf26b104_33d0_11eb_9378_d1e8cc3aa325row3_col1,#T_bf26b104_33d0_11eb_9378_d1e8cc3aa325row6_col3{\n",
       "            background-color:  #662506;\n",
       "            color:  #f1f1f1;\n",
       "        }#T_bf26b104_33d0_11eb_9378_d1e8cc3aa325row3_col2,#T_bf26b104_33d0_11eb_9378_d1e8cc3aa325row7_col2{\n",
       "            background-color:  #04629a;\n",
       "            color:  #f1f1f1;\n",
       "        }#T_bf26b104_33d0_11eb_9378_d1e8cc3aa325row4_col0{\n",
       "            background-color:  #ede7f2;\n",
       "            color:  #000000;\n",
       "        }#T_bf26b104_33d0_11eb_9378_d1e8cc3aa325row4_col1{\n",
       "            background-color:  #c94b02;\n",
       "            color:  #f1f1f1;\n",
       "        }#T_bf26b104_33d0_11eb_9378_d1e8cc3aa325row4_col2{\n",
       "            background-color:  #328dbf;\n",
       "            color:  #000000;\n",
       "        }#T_bf26b104_33d0_11eb_9378_d1e8cc3aa325row4_col3{\n",
       "            background-color:  #fee99e;\n",
       "            color:  #000000;\n",
       "        }#T_bf26b104_33d0_11eb_9378_d1e8cc3aa325row5_col0{\n",
       "            background-color:  #7dacd1;\n",
       "            color:  #000000;\n",
       "        }#T_bf26b104_33d0_11eb_9378_d1e8cc3aa325row5_col1{\n",
       "            background-color:  #fff4b6;\n",
       "            color:  #000000;\n",
       "        }#T_bf26b104_33d0_11eb_9378_d1e8cc3aa325row5_col3{\n",
       "            background-color:  #ee7617;\n",
       "            color:  #000000;\n",
       "        }#T_bf26b104_33d0_11eb_9378_d1e8cc3aa325row6_col1{\n",
       "            background-color:  #e46710;\n",
       "            color:  #000000;\n",
       "        }#T_bf26b104_33d0_11eb_9378_d1e8cc3aa325row6_col2{\n",
       "            background-color:  #c9cee4;\n",
       "            color:  #000000;\n",
       "        }#T_bf26b104_33d0_11eb_9378_d1e8cc3aa325row7_col0{\n",
       "            background-color:  #e4e1ef;\n",
       "            color:  #000000;\n",
       "        }#T_bf26b104_33d0_11eb_9378_d1e8cc3aa325row7_col1{\n",
       "            background-color:  #9b3504;\n",
       "            color:  #f1f1f1;\n",
       "        }#T_bf26b104_33d0_11eb_9378_d1e8cc3aa325row7_col3{\n",
       "            background-color:  #d55607;\n",
       "            color:  #000000;\n",
       "        }</style><table id=\"T_bf26b104_33d0_11eb_9378_d1e8cc3aa325\" ><thead>    <tr>        <th class=\"blank level0\" ></th>        <th class=\"col_heading level0 col0\" >Ozone</th>        <th class=\"col_heading level0 col1\" >Solar.R</th>        <th class=\"col_heading level0 col2\" >Wind</th>        <th class=\"col_heading level0 col3\" >Temp</th>        <th class=\"col_heading level0 col4\" >Month</th>        <th class=\"col_heading level0 col5\" >Day</th>    </tr></thead><tbody>\n",
       "                <tr>\n",
       "                        <th id=\"T_bf26b104_33d0_11eb_9378_d1e8cc3aa325level0_row0\" class=\"row_heading level0 row0\" >0</th>\n",
       "                        <td id=\"T_bf26b104_33d0_11eb_9378_d1e8cc3aa325row0_col0\" class=\"data row0 col0\" >41</td>\n",
       "                        <td id=\"T_bf26b104_33d0_11eb_9378_d1e8cc3aa325row0_col1\" class=\"data row0 col1\" >190</td>\n",
       "                        <td id=\"T_bf26b104_33d0_11eb_9378_d1e8cc3aa325row0_col2\" class=\"data row0 col2\" >7.400000</td>\n",
       "                        <td id=\"T_bf26b104_33d0_11eb_9378_d1e8cc3aa325row0_col3\" class=\"data row0 col3\" >67</td>\n",
       "                        <td id=\"T_bf26b104_33d0_11eb_9378_d1e8cc3aa325row0_col4\" class=\"data row0 col4\" >5</td>\n",
       "                        <td id=\"T_bf26b104_33d0_11eb_9378_d1e8cc3aa325row0_col5\" class=\"data row0 col5\" >1</td>\n",
       "            </tr>\n",
       "            <tr>\n",
       "                        <th id=\"T_bf26b104_33d0_11eb_9378_d1e8cc3aa325level0_row1\" class=\"row_heading level0 row1\" >81</th>\n",
       "                        <td id=\"T_bf26b104_33d0_11eb_9378_d1e8cc3aa325row1_col0\" class=\"data row1 col0\" >16</td>\n",
       "                        <td id=\"T_bf26b104_33d0_11eb_9378_d1e8cc3aa325row1_col1\" class=\"data row1 col1\" >7</td>\n",
       "                        <td id=\"T_bf26b104_33d0_11eb_9378_d1e8cc3aa325row1_col2\" class=\"data row1 col2\" >6.900000</td>\n",
       "                        <td id=\"T_bf26b104_33d0_11eb_9378_d1e8cc3aa325row1_col3\" class=\"data row1 col3\" >74</td>\n",
       "                        <td id=\"T_bf26b104_33d0_11eb_9378_d1e8cc3aa325row1_col4\" class=\"data row1 col4\" >7</td>\n",
       "                        <td id=\"T_bf26b104_33d0_11eb_9378_d1e8cc3aa325row1_col5\" class=\"data row1 col5\" >21</td>\n",
       "            </tr>\n",
       "            <tr>\n",
       "                        <th id=\"T_bf26b104_33d0_11eb_9378_d1e8cc3aa325level0_row2\" class=\"row_heading level0 row2\" >2</th>\n",
       "                        <td id=\"T_bf26b104_33d0_11eb_9378_d1e8cc3aa325row2_col0\" class=\"data row2 col0\" >12</td>\n",
       "                        <td id=\"T_bf26b104_33d0_11eb_9378_d1e8cc3aa325row2_col1\" class=\"data row2 col1\" >149</td>\n",
       "                        <td id=\"T_bf26b104_33d0_11eb_9378_d1e8cc3aa325row2_col2\" class=\"data row2 col2\" >12.600000</td>\n",
       "                        <td id=\"T_bf26b104_33d0_11eb_9378_d1e8cc3aa325row2_col3\" class=\"data row2 col3\" >74</td>\n",
       "                        <td id=\"T_bf26b104_33d0_11eb_9378_d1e8cc3aa325row2_col4\" class=\"data row2 col4\" >5</td>\n",
       "                        <td id=\"T_bf26b104_33d0_11eb_9378_d1e8cc3aa325row2_col5\" class=\"data row2 col5\" >3</td>\n",
       "            </tr>\n",
       "            <tr>\n",
       "                        <th id=\"T_bf26b104_33d0_11eb_9378_d1e8cc3aa325level0_row3\" class=\"row_heading level0 row3\" >3</th>\n",
       "                        <td id=\"T_bf26b104_33d0_11eb_9378_d1e8cc3aa325row3_col0\" class=\"data row3 col0\" >18</td>\n",
       "                        <td id=\"T_bf26b104_33d0_11eb_9378_d1e8cc3aa325row3_col1\" class=\"data row3 col1\" >313</td>\n",
       "                        <td id=\"T_bf26b104_33d0_11eb_9378_d1e8cc3aa325row3_col2\" class=\"data row3 col2\" >11.500000</td>\n",
       "                        <td id=\"T_bf26b104_33d0_11eb_9378_d1e8cc3aa325row3_col3\" class=\"data row3 col3\" >62</td>\n",
       "                        <td id=\"T_bf26b104_33d0_11eb_9378_d1e8cc3aa325row3_col4\" class=\"data row3 col4\" >5</td>\n",
       "                        <td id=\"T_bf26b104_33d0_11eb_9378_d1e8cc3aa325row3_col5\" class=\"data row3 col5\" >4</td>\n",
       "            </tr>\n",
       "            <tr>\n",
       "                        <th id=\"T_bf26b104_33d0_11eb_9378_d1e8cc3aa325level0_row4\" class=\"row_heading level0 row4\" >141</th>\n",
       "                        <td id=\"T_bf26b104_33d0_11eb_9378_d1e8cc3aa325row4_col0\" class=\"data row4 col0\" >24</td>\n",
       "                        <td id=\"T_bf26b104_33d0_11eb_9378_d1e8cc3aa325row4_col1\" class=\"data row4 col1\" >238</td>\n",
       "                        <td id=\"T_bf26b104_33d0_11eb_9378_d1e8cc3aa325row4_col2\" class=\"data row4 col2\" >10.300000</td>\n",
       "                        <td id=\"T_bf26b104_33d0_11eb_9378_d1e8cc3aa325row4_col3\" class=\"data row4 col3\" >68</td>\n",
       "                        <td id=\"T_bf26b104_33d0_11eb_9378_d1e8cc3aa325row4_col4\" class=\"data row4 col4\" >9</td>\n",
       "                        <td id=\"T_bf26b104_33d0_11eb_9378_d1e8cc3aa325row4_col5\" class=\"data row4 col5\" >19</td>\n",
       "            </tr>\n",
       "            <tr>\n",
       "                        <th id=\"T_bf26b104_33d0_11eb_9378_d1e8cc3aa325level0_row5\" class=\"row_heading level0 row5\" >108</th>\n",
       "                        <td id=\"T_bf26b104_33d0_11eb_9378_d1e8cc3aa325row5_col0\" class=\"data row5 col0\" >59</td>\n",
       "                        <td id=\"T_bf26b104_33d0_11eb_9378_d1e8cc3aa325row5_col1\" class=\"data row5 col1\" >51</td>\n",
       "                        <td id=\"T_bf26b104_33d0_11eb_9378_d1e8cc3aa325row5_col2\" class=\"data row5 col2\" >6.300000</td>\n",
       "                        <td id=\"T_bf26b104_33d0_11eb_9378_d1e8cc3aa325row5_col3\" class=\"data row5 col3\" >79</td>\n",
       "                        <td id=\"T_bf26b104_33d0_11eb_9378_d1e8cc3aa325row5_col4\" class=\"data row5 col4\" >8</td>\n",
       "                        <td id=\"T_bf26b104_33d0_11eb_9378_d1e8cc3aa325row5_col5\" class=\"data row5 col5\" >17</td>\n",
       "            </tr>\n",
       "            <tr>\n",
       "                        <th id=\"T_bf26b104_33d0_11eb_9378_d1e8cc3aa325level0_row6\" class=\"row_heading level0 row6\" >100</th>\n",
       "                        <td id=\"T_bf26b104_33d0_11eb_9378_d1e8cc3aa325row6_col0\" class=\"data row6 col0\" >110</td>\n",
       "                        <td id=\"T_bf26b104_33d0_11eb_9378_d1e8cc3aa325row6_col1\" class=\"data row6 col1\" >207</td>\n",
       "                        <td id=\"T_bf26b104_33d0_11eb_9378_d1e8cc3aa325row6_col2\" class=\"data row6 col2\" >8.000000</td>\n",
       "                        <td id=\"T_bf26b104_33d0_11eb_9378_d1e8cc3aa325row6_col3\" class=\"data row6 col3\" >90</td>\n",
       "                        <td id=\"T_bf26b104_33d0_11eb_9378_d1e8cc3aa325row6_col4\" class=\"data row6 col4\" >8</td>\n",
       "                        <td id=\"T_bf26b104_33d0_11eb_9378_d1e8cc3aa325row6_col5\" class=\"data row6 col5\" >9</td>\n",
       "            </tr>\n",
       "            <tr>\n",
       "                        <th id=\"T_bf26b104_33d0_11eb_9378_d1e8cc3aa325level0_row7\" class=\"row_heading level0 row7\" >104</th>\n",
       "                        <td id=\"T_bf26b104_33d0_11eb_9378_d1e8cc3aa325row7_col0\" class=\"data row7 col0\" >28</td>\n",
       "                        <td id=\"T_bf26b104_33d0_11eb_9378_d1e8cc3aa325row7_col1\" class=\"data row7 col1\" >273</td>\n",
       "                        <td id=\"T_bf26b104_33d0_11eb_9378_d1e8cc3aa325row7_col2\" class=\"data row7 col2\" >11.500000</td>\n",
       "                        <td id=\"T_bf26b104_33d0_11eb_9378_d1e8cc3aa325row7_col3\" class=\"data row7 col3\" >82</td>\n",
       "                        <td id=\"T_bf26b104_33d0_11eb_9378_d1e8cc3aa325row7_col4\" class=\"data row7 col4\" >8</td>\n",
       "                        <td id=\"T_bf26b104_33d0_11eb_9378_d1e8cc3aa325row7_col5\" class=\"data row7 col5\" >13</td>\n",
       "            </tr>\n",
       "    </tbody></table>"
      ],
      "text/plain": [
       "<pandas.io.formats.style.Styler at 0x7f45cf8263d0>"
      ]
     },
     "execution_count": 5,
     "metadata": {},
     "output_type": "execute_result"
    }
   ],
   "source": [
    "(\n",
    "    airquality.sample(10).dropna()\n",
    "    .style.background_gradient(subset=['Solar.R', 'Temp'], cmap='YlOrBr')\n",
    "    .background_gradient(subset=['Ozone', 'Wind'], cmap='PuBu')\n",
    ")"
   ]
  },
  {
   "cell_type": "markdown",
   "metadata": {},
   "source": [
    "## Handling NaNS"
   ]
  },
  {
   "cell_type": "markdown",
   "metadata": {},
   "source": [
    "### NaNs Exploration"
   ]
  },
  {
   "cell_type": "code",
   "execution_count": 6,
   "metadata": {},
   "outputs": [
    {
     "data": {
      "text/html": [
       "<div>\n",
       "<style scoped>\n",
       "    .dataframe tbody tr th:only-of-type {\n",
       "        vertical-align: middle;\n",
       "    }\n",
       "\n",
       "    .dataframe tbody tr th {\n",
       "        vertical-align: top;\n",
       "    }\n",
       "\n",
       "    .dataframe thead th {\n",
       "        text-align: right;\n",
       "    }\n",
       "</style>\n",
       "<table border=\"1\" class=\"dataframe\">\n",
       "  <thead>\n",
       "    <tr style=\"text-align: right;\">\n",
       "      <th></th>\n",
       "      <th>Ozone</th>\n",
       "      <th>Solar.R</th>\n",
       "      <th>Wind</th>\n",
       "      <th>Temp</th>\n",
       "      <th>Month</th>\n",
       "      <th>Day</th>\n",
       "    </tr>\n",
       "  </thead>\n",
       "  <tbody>\n",
       "    <tr>\n",
       "      <th>0</th>\n",
       "      <td>41</td>\n",
       "      <td>190</td>\n",
       "      <td>7.4</td>\n",
       "      <td>67</td>\n",
       "      <td>5</td>\n",
       "      <td>1</td>\n",
       "    </tr>\n",
       "    <tr>\n",
       "      <th>1</th>\n",
       "      <td>36</td>\n",
       "      <td>118</td>\n",
       "      <td>8.0</td>\n",
       "      <td>72</td>\n",
       "      <td>5</td>\n",
       "      <td>2</td>\n",
       "    </tr>\n",
       "    <tr>\n",
       "      <th>2</th>\n",
       "      <td>12</td>\n",
       "      <td>149</td>\n",
       "      <td>12.6</td>\n",
       "      <td>74</td>\n",
       "      <td>5</td>\n",
       "      <td>3</td>\n",
       "    </tr>\n",
       "    <tr>\n",
       "      <th>3</th>\n",
       "      <td>18</td>\n",
       "      <td>313</td>\n",
       "      <td>11.5</td>\n",
       "      <td>62</td>\n",
       "      <td>5</td>\n",
       "      <td>4</td>\n",
       "    </tr>\n",
       "    <tr>\n",
       "      <th>4</th>\n",
       "      <td>&lt;NA&gt;</td>\n",
       "      <td>&lt;NA&gt;</td>\n",
       "      <td>14.3</td>\n",
       "      <td>56</td>\n",
       "      <td>5</td>\n",
       "      <td>5</td>\n",
       "    </tr>\n",
       "  </tbody>\n",
       "</table>\n",
       "</div>"
      ],
      "text/plain": [
       "   Ozone  Solar.R  Wind  Temp  Month  Day\n",
       "0     41      190   7.4    67      5    1\n",
       "1     36      118   8.0    72      5    2\n",
       "2     12      149  12.6    74      5    3\n",
       "3     18      313  11.5    62      5    4\n",
       "4   <NA>     <NA>  14.3    56      5    5"
      ]
     },
     "execution_count": 6,
     "metadata": {},
     "output_type": "execute_result"
    }
   ],
   "source": [
    "airquality.head()"
   ]
  },
  {
   "cell_type": "code",
   "execution_count": 7,
   "metadata": {},
   "outputs": [
    {
     "data": {
      "text/plain": [
       "(153, 6)"
      ]
     },
     "execution_count": 7,
     "metadata": {},
     "output_type": "execute_result"
    }
   ],
   "source": [
    "airquality.shape"
   ]
  },
  {
   "cell_type": "code",
   "execution_count": 8,
   "metadata": {},
   "outputs": [
    {
     "data": {
      "text/html": [
       "<div>\n",
       "<style scoped>\n",
       "    .dataframe tbody tr th:only-of-type {\n",
       "        vertical-align: middle;\n",
       "    }\n",
       "\n",
       "    .dataframe tbody tr th {\n",
       "        vertical-align: top;\n",
       "    }\n",
       "\n",
       "    .dataframe thead th {\n",
       "        text-align: right;\n",
       "    }\n",
       "</style>\n",
       "<table border=\"1\" class=\"dataframe\">\n",
       "  <thead>\n",
       "    <tr style=\"text-align: right;\">\n",
       "      <th></th>\n",
       "      <th>Ozone</th>\n",
       "      <th>Solar.R</th>\n",
       "      <th>Wind</th>\n",
       "      <th>Temp</th>\n",
       "      <th>Month</th>\n",
       "      <th>Day</th>\n",
       "    </tr>\n",
       "  </thead>\n",
       "  <tbody>\n",
       "    <tr>\n",
       "      <th>0</th>\n",
       "      <td>41</td>\n",
       "      <td>190</td>\n",
       "      <td>7.4</td>\n",
       "      <td>67</td>\n",
       "      <td>5</td>\n",
       "      <td>1</td>\n",
       "    </tr>\n",
       "    <tr>\n",
       "      <th>1</th>\n",
       "      <td>36</td>\n",
       "      <td>118</td>\n",
       "      <td>8.0</td>\n",
       "      <td>72</td>\n",
       "      <td>5</td>\n",
       "      <td>2</td>\n",
       "    </tr>\n",
       "    <tr>\n",
       "      <th>2</th>\n",
       "      <td>12</td>\n",
       "      <td>149</td>\n",
       "      <td>12.6</td>\n",
       "      <td>74</td>\n",
       "      <td>5</td>\n",
       "      <td>3</td>\n",
       "    </tr>\n",
       "    <tr>\n",
       "      <th>3</th>\n",
       "      <td>18</td>\n",
       "      <td>313</td>\n",
       "      <td>11.5</td>\n",
       "      <td>62</td>\n",
       "      <td>5</td>\n",
       "      <td>4</td>\n",
       "    </tr>\n",
       "    <tr>\n",
       "      <th>6</th>\n",
       "      <td>23</td>\n",
       "      <td>299</td>\n",
       "      <td>8.6</td>\n",
       "      <td>65</td>\n",
       "      <td>5</td>\n",
       "      <td>7</td>\n",
       "    </tr>\n",
       "    <tr>\n",
       "      <th>...</th>\n",
       "      <td>...</td>\n",
       "      <td>...</td>\n",
       "      <td>...</td>\n",
       "      <td>...</td>\n",
       "      <td>...</td>\n",
       "      <td>...</td>\n",
       "    </tr>\n",
       "    <tr>\n",
       "      <th>147</th>\n",
       "      <td>14</td>\n",
       "      <td>20</td>\n",
       "      <td>16.6</td>\n",
       "      <td>63</td>\n",
       "      <td>9</td>\n",
       "      <td>25</td>\n",
       "    </tr>\n",
       "    <tr>\n",
       "      <th>148</th>\n",
       "      <td>30</td>\n",
       "      <td>193</td>\n",
       "      <td>6.9</td>\n",
       "      <td>70</td>\n",
       "      <td>9</td>\n",
       "      <td>26</td>\n",
       "    </tr>\n",
       "    <tr>\n",
       "      <th>150</th>\n",
       "      <td>14</td>\n",
       "      <td>191</td>\n",
       "      <td>14.3</td>\n",
       "      <td>75</td>\n",
       "      <td>9</td>\n",
       "      <td>28</td>\n",
       "    </tr>\n",
       "    <tr>\n",
       "      <th>151</th>\n",
       "      <td>18</td>\n",
       "      <td>131</td>\n",
       "      <td>8.0</td>\n",
       "      <td>76</td>\n",
       "      <td>9</td>\n",
       "      <td>29</td>\n",
       "    </tr>\n",
       "    <tr>\n",
       "      <th>152</th>\n",
       "      <td>20</td>\n",
       "      <td>223</td>\n",
       "      <td>11.5</td>\n",
       "      <td>68</td>\n",
       "      <td>9</td>\n",
       "      <td>30</td>\n",
       "    </tr>\n",
       "  </tbody>\n",
       "</table>\n",
       "<p>111 rows × 6 columns</p>\n",
       "</div>"
      ],
      "text/plain": [
       "     Ozone  Solar.R  Wind  Temp  Month  Day\n",
       "0       41      190   7.4    67      5    1\n",
       "1       36      118   8.0    72      5    2\n",
       "2       12      149  12.6    74      5    3\n",
       "3       18      313  11.5    62      5    4\n",
       "6       23      299   8.6    65      5    7\n",
       "..     ...      ...   ...   ...    ...  ...\n",
       "147     14       20  16.6    63      9   25\n",
       "148     30      193   6.9    70      9   26\n",
       "150     14      191  14.3    75      9   28\n",
       "151     18      131   8.0    76      9   29\n",
       "152     20      223  11.5    68      9   30\n",
       "\n",
       "[111 rows x 6 columns]"
      ]
     },
     "execution_count": 8,
     "metadata": {},
     "output_type": "execute_result"
    }
   ],
   "source": [
    "obs_without_nan = airquality.dropna()\n",
    "obs_without_nan"
   ]
  },
  {
   "cell_type": "markdown",
   "metadata": {},
   "source": [
    "### 111 rows free of NaNs vs 42 with NaNs\n",
    "\n",
    "Let's explore them:"
   ]
  },
  {
   "cell_type": "code",
   "execution_count": 11,
   "metadata": {},
   "outputs": [
    {
     "data": {
      "text/html": [
       "<div>\n",
       "<style scoped>\n",
       "    .dataframe tbody tr th:only-of-type {\n",
       "        vertical-align: middle;\n",
       "    }\n",
       "\n",
       "    .dataframe tbody tr th {\n",
       "        vertical-align: top;\n",
       "    }\n",
       "\n",
       "    .dataframe thead th {\n",
       "        text-align: right;\n",
       "    }\n",
       "</style>\n",
       "<table border=\"1\" class=\"dataframe\">\n",
       "  <thead>\n",
       "    <tr style=\"text-align: right;\">\n",
       "      <th></th>\n",
       "      <th>Ozone</th>\n",
       "      <th>Solar.R</th>\n",
       "    </tr>\n",
       "  </thead>\n",
       "  <tbody>\n",
       "    <tr>\n",
       "      <th>0</th>\n",
       "      <td>41</td>\n",
       "      <td>190</td>\n",
       "    </tr>\n",
       "    <tr>\n",
       "      <th>1</th>\n",
       "      <td>36</td>\n",
       "      <td>118</td>\n",
       "    </tr>\n",
       "    <tr>\n",
       "      <th>2</th>\n",
       "      <td>12</td>\n",
       "      <td>149</td>\n",
       "    </tr>\n",
       "    <tr>\n",
       "      <th>3</th>\n",
       "      <td>18</td>\n",
       "      <td>313</td>\n",
       "    </tr>\n",
       "    <tr>\n",
       "      <th>4</th>\n",
       "      <td>&lt;NA&gt;</td>\n",
       "      <td>&lt;NA&gt;</td>\n",
       "    </tr>\n",
       "    <tr>\n",
       "      <th>...</th>\n",
       "      <td>...</td>\n",
       "      <td>...</td>\n",
       "    </tr>\n",
       "    <tr>\n",
       "      <th>148</th>\n",
       "      <td>30</td>\n",
       "      <td>193</td>\n",
       "    </tr>\n",
       "    <tr>\n",
       "      <th>149</th>\n",
       "      <td>&lt;NA&gt;</td>\n",
       "      <td>145</td>\n",
       "    </tr>\n",
       "    <tr>\n",
       "      <th>150</th>\n",
       "      <td>14</td>\n",
       "      <td>191</td>\n",
       "    </tr>\n",
       "    <tr>\n",
       "      <th>151</th>\n",
       "      <td>18</td>\n",
       "      <td>131</td>\n",
       "    </tr>\n",
       "    <tr>\n",
       "      <th>152</th>\n",
       "      <td>20</td>\n",
       "      <td>223</td>\n",
       "    </tr>\n",
       "  </tbody>\n",
       "</table>\n",
       "<p>153 rows × 2 columns</p>\n",
       "</div>"
      ],
      "text/plain": [
       "     Ozone  Solar.R\n",
       "0       41      190\n",
       "1       36      118\n",
       "2       12      149\n",
       "3       18      313\n",
       "4     <NA>     <NA>\n",
       "..     ...      ...\n",
       "148     30      193\n",
       "149   <NA>      145\n",
       "150     14      191\n",
       "151     18      131\n",
       "152     20      223\n",
       "\n",
       "[153 rows x 2 columns]"
      ]
     },
     "execution_count": 11,
     "metadata": {},
     "output_type": "execute_result"
    }
   ],
   "source": [
    "airquality[ airquality.columns[ airquality.isna().any() ] ]"
   ]
  },
  {
   "cell_type": "markdown",
   "metadata": {},
   "source": [
    "We only have NaNs in *'OZone'* and *'Solar.R'* columns"
   ]
  },
  {
   "cell_type": "markdown",
   "metadata": {},
   "source": [
    "#### NaNs *'Ozone'* column"
   ]
  },
  {
   "cell_type": "code",
   "execution_count": 14,
   "metadata": {},
   "outputs": [
    {
     "data": {
      "text/html": [
       "<div>\n",
       "<style scoped>\n",
       "    .dataframe tbody tr th:only-of-type {\n",
       "        vertical-align: middle;\n",
       "    }\n",
       "\n",
       "    .dataframe tbody tr th {\n",
       "        vertical-align: top;\n",
       "    }\n",
       "\n",
       "    .dataframe thead th {\n",
       "        text-align: right;\n",
       "    }\n",
       "</style>\n",
       "<table border=\"1\" class=\"dataframe\">\n",
       "  <thead>\n",
       "    <tr style=\"text-align: right;\">\n",
       "      <th></th>\n",
       "      <th>Ozone</th>\n",
       "      <th>Solar.R</th>\n",
       "      <th>Wind</th>\n",
       "      <th>Temp</th>\n",
       "      <th>Month</th>\n",
       "      <th>Day</th>\n",
       "    </tr>\n",
       "  </thead>\n",
       "  <tbody>\n",
       "    <tr>\n",
       "      <th>4</th>\n",
       "      <td>&lt;NA&gt;</td>\n",
       "      <td>&lt;NA&gt;</td>\n",
       "      <td>14.3</td>\n",
       "      <td>56</td>\n",
       "      <td>5</td>\n",
       "      <td>5</td>\n",
       "    </tr>\n",
       "    <tr>\n",
       "      <th>9</th>\n",
       "      <td>&lt;NA&gt;</td>\n",
       "      <td>194</td>\n",
       "      <td>8.6</td>\n",
       "      <td>69</td>\n",
       "      <td>5</td>\n",
       "      <td>10</td>\n",
       "    </tr>\n",
       "    <tr>\n",
       "      <th>24</th>\n",
       "      <td>&lt;NA&gt;</td>\n",
       "      <td>66</td>\n",
       "      <td>16.6</td>\n",
       "      <td>57</td>\n",
       "      <td>5</td>\n",
       "      <td>25</td>\n",
       "    </tr>\n",
       "    <tr>\n",
       "      <th>25</th>\n",
       "      <td>&lt;NA&gt;</td>\n",
       "      <td>266</td>\n",
       "      <td>14.9</td>\n",
       "      <td>58</td>\n",
       "      <td>5</td>\n",
       "      <td>26</td>\n",
       "    </tr>\n",
       "    <tr>\n",
       "      <th>26</th>\n",
       "      <td>&lt;NA&gt;</td>\n",
       "      <td>&lt;NA&gt;</td>\n",
       "      <td>8.0</td>\n",
       "      <td>57</td>\n",
       "      <td>5</td>\n",
       "      <td>27</td>\n",
       "    </tr>\n",
       "    <tr>\n",
       "      <th>31</th>\n",
       "      <td>&lt;NA&gt;</td>\n",
       "      <td>286</td>\n",
       "      <td>8.6</td>\n",
       "      <td>78</td>\n",
       "      <td>6</td>\n",
       "      <td>1</td>\n",
       "    </tr>\n",
       "    <tr>\n",
       "      <th>32</th>\n",
       "      <td>&lt;NA&gt;</td>\n",
       "      <td>287</td>\n",
       "      <td>9.7</td>\n",
       "      <td>74</td>\n",
       "      <td>6</td>\n",
       "      <td>2</td>\n",
       "    </tr>\n",
       "    <tr>\n",
       "      <th>33</th>\n",
       "      <td>&lt;NA&gt;</td>\n",
       "      <td>242</td>\n",
       "      <td>16.1</td>\n",
       "      <td>67</td>\n",
       "      <td>6</td>\n",
       "      <td>3</td>\n",
       "    </tr>\n",
       "    <tr>\n",
       "      <th>34</th>\n",
       "      <td>&lt;NA&gt;</td>\n",
       "      <td>186</td>\n",
       "      <td>9.2</td>\n",
       "      <td>84</td>\n",
       "      <td>6</td>\n",
       "      <td>4</td>\n",
       "    </tr>\n",
       "    <tr>\n",
       "      <th>35</th>\n",
       "      <td>&lt;NA&gt;</td>\n",
       "      <td>220</td>\n",
       "      <td>8.6</td>\n",
       "      <td>85</td>\n",
       "      <td>6</td>\n",
       "      <td>5</td>\n",
       "    </tr>\n",
       "    <tr>\n",
       "      <th>36</th>\n",
       "      <td>&lt;NA&gt;</td>\n",
       "      <td>264</td>\n",
       "      <td>14.3</td>\n",
       "      <td>79</td>\n",
       "      <td>6</td>\n",
       "      <td>6</td>\n",
       "    </tr>\n",
       "    <tr>\n",
       "      <th>38</th>\n",
       "      <td>&lt;NA&gt;</td>\n",
       "      <td>273</td>\n",
       "      <td>6.9</td>\n",
       "      <td>87</td>\n",
       "      <td>6</td>\n",
       "      <td>8</td>\n",
       "    </tr>\n",
       "    <tr>\n",
       "      <th>41</th>\n",
       "      <td>&lt;NA&gt;</td>\n",
       "      <td>259</td>\n",
       "      <td>10.9</td>\n",
       "      <td>93</td>\n",
       "      <td>6</td>\n",
       "      <td>11</td>\n",
       "    </tr>\n",
       "    <tr>\n",
       "      <th>42</th>\n",
       "      <td>&lt;NA&gt;</td>\n",
       "      <td>250</td>\n",
       "      <td>9.2</td>\n",
       "      <td>92</td>\n",
       "      <td>6</td>\n",
       "      <td>12</td>\n",
       "    </tr>\n",
       "    <tr>\n",
       "      <th>44</th>\n",
       "      <td>&lt;NA&gt;</td>\n",
       "      <td>332</td>\n",
       "      <td>13.8</td>\n",
       "      <td>80</td>\n",
       "      <td>6</td>\n",
       "      <td>14</td>\n",
       "    </tr>\n",
       "    <tr>\n",
       "      <th>45</th>\n",
       "      <td>&lt;NA&gt;</td>\n",
       "      <td>322</td>\n",
       "      <td>11.5</td>\n",
       "      <td>79</td>\n",
       "      <td>6</td>\n",
       "      <td>15</td>\n",
       "    </tr>\n",
       "    <tr>\n",
       "      <th>51</th>\n",
       "      <td>&lt;NA&gt;</td>\n",
       "      <td>150</td>\n",
       "      <td>6.3</td>\n",
       "      <td>77</td>\n",
       "      <td>6</td>\n",
       "      <td>21</td>\n",
       "    </tr>\n",
       "    <tr>\n",
       "      <th>52</th>\n",
       "      <td>&lt;NA&gt;</td>\n",
       "      <td>59</td>\n",
       "      <td>1.7</td>\n",
       "      <td>76</td>\n",
       "      <td>6</td>\n",
       "      <td>22</td>\n",
       "    </tr>\n",
       "    <tr>\n",
       "      <th>53</th>\n",
       "      <td>&lt;NA&gt;</td>\n",
       "      <td>91</td>\n",
       "      <td>4.6</td>\n",
       "      <td>76</td>\n",
       "      <td>6</td>\n",
       "      <td>23</td>\n",
       "    </tr>\n",
       "    <tr>\n",
       "      <th>54</th>\n",
       "      <td>&lt;NA&gt;</td>\n",
       "      <td>250</td>\n",
       "      <td>6.3</td>\n",
       "      <td>76</td>\n",
       "      <td>6</td>\n",
       "      <td>24</td>\n",
       "    </tr>\n",
       "    <tr>\n",
       "      <th>55</th>\n",
       "      <td>&lt;NA&gt;</td>\n",
       "      <td>135</td>\n",
       "      <td>8.0</td>\n",
       "      <td>75</td>\n",
       "      <td>6</td>\n",
       "      <td>25</td>\n",
       "    </tr>\n",
       "    <tr>\n",
       "      <th>56</th>\n",
       "      <td>&lt;NA&gt;</td>\n",
       "      <td>127</td>\n",
       "      <td>8.0</td>\n",
       "      <td>78</td>\n",
       "      <td>6</td>\n",
       "      <td>26</td>\n",
       "    </tr>\n",
       "    <tr>\n",
       "      <th>57</th>\n",
       "      <td>&lt;NA&gt;</td>\n",
       "      <td>47</td>\n",
       "      <td>10.3</td>\n",
       "      <td>73</td>\n",
       "      <td>6</td>\n",
       "      <td>27</td>\n",
       "    </tr>\n",
       "    <tr>\n",
       "      <th>58</th>\n",
       "      <td>&lt;NA&gt;</td>\n",
       "      <td>98</td>\n",
       "      <td>11.5</td>\n",
       "      <td>80</td>\n",
       "      <td>6</td>\n",
       "      <td>28</td>\n",
       "    </tr>\n",
       "    <tr>\n",
       "      <th>59</th>\n",
       "      <td>&lt;NA&gt;</td>\n",
       "      <td>31</td>\n",
       "      <td>14.9</td>\n",
       "      <td>77</td>\n",
       "      <td>6</td>\n",
       "      <td>29</td>\n",
       "    </tr>\n",
       "    <tr>\n",
       "      <th>60</th>\n",
       "      <td>&lt;NA&gt;</td>\n",
       "      <td>138</td>\n",
       "      <td>8.0</td>\n",
       "      <td>83</td>\n",
       "      <td>6</td>\n",
       "      <td>30</td>\n",
       "    </tr>\n",
       "    <tr>\n",
       "      <th>64</th>\n",
       "      <td>&lt;NA&gt;</td>\n",
       "      <td>101</td>\n",
       "      <td>10.9</td>\n",
       "      <td>84</td>\n",
       "      <td>7</td>\n",
       "      <td>4</td>\n",
       "    </tr>\n",
       "    <tr>\n",
       "      <th>71</th>\n",
       "      <td>&lt;NA&gt;</td>\n",
       "      <td>139</td>\n",
       "      <td>8.6</td>\n",
       "      <td>82</td>\n",
       "      <td>7</td>\n",
       "      <td>11</td>\n",
       "    </tr>\n",
       "    <tr>\n",
       "      <th>74</th>\n",
       "      <td>&lt;NA&gt;</td>\n",
       "      <td>291</td>\n",
       "      <td>14.9</td>\n",
       "      <td>91</td>\n",
       "      <td>7</td>\n",
       "      <td>14</td>\n",
       "    </tr>\n",
       "    <tr>\n",
       "      <th>82</th>\n",
       "      <td>&lt;NA&gt;</td>\n",
       "      <td>258</td>\n",
       "      <td>9.7</td>\n",
       "      <td>81</td>\n",
       "      <td>7</td>\n",
       "      <td>22</td>\n",
       "    </tr>\n",
       "    <tr>\n",
       "      <th>83</th>\n",
       "      <td>&lt;NA&gt;</td>\n",
       "      <td>295</td>\n",
       "      <td>11.5</td>\n",
       "      <td>82</td>\n",
       "      <td>7</td>\n",
       "      <td>23</td>\n",
       "    </tr>\n",
       "    <tr>\n",
       "      <th>101</th>\n",
       "      <td>&lt;NA&gt;</td>\n",
       "      <td>222</td>\n",
       "      <td>8.6</td>\n",
       "      <td>92</td>\n",
       "      <td>8</td>\n",
       "      <td>10</td>\n",
       "    </tr>\n",
       "    <tr>\n",
       "      <th>102</th>\n",
       "      <td>&lt;NA&gt;</td>\n",
       "      <td>137</td>\n",
       "      <td>11.5</td>\n",
       "      <td>86</td>\n",
       "      <td>8</td>\n",
       "      <td>11</td>\n",
       "    </tr>\n",
       "    <tr>\n",
       "      <th>106</th>\n",
       "      <td>&lt;NA&gt;</td>\n",
       "      <td>64</td>\n",
       "      <td>11.5</td>\n",
       "      <td>79</td>\n",
       "      <td>8</td>\n",
       "      <td>15</td>\n",
       "    </tr>\n",
       "    <tr>\n",
       "      <th>114</th>\n",
       "      <td>&lt;NA&gt;</td>\n",
       "      <td>255</td>\n",
       "      <td>12.6</td>\n",
       "      <td>75</td>\n",
       "      <td>8</td>\n",
       "      <td>23</td>\n",
       "    </tr>\n",
       "    <tr>\n",
       "      <th>118</th>\n",
       "      <td>&lt;NA&gt;</td>\n",
       "      <td>153</td>\n",
       "      <td>5.7</td>\n",
       "      <td>88</td>\n",
       "      <td>8</td>\n",
       "      <td>27</td>\n",
       "    </tr>\n",
       "    <tr>\n",
       "      <th>149</th>\n",
       "      <td>&lt;NA&gt;</td>\n",
       "      <td>145</td>\n",
       "      <td>13.2</td>\n",
       "      <td>77</td>\n",
       "      <td>9</td>\n",
       "      <td>27</td>\n",
       "    </tr>\n",
       "  </tbody>\n",
       "</table>\n",
       "</div>"
      ],
      "text/plain": [
       "     Ozone  Solar.R  Wind  Temp  Month  Day\n",
       "4     <NA>     <NA>  14.3    56      5    5\n",
       "9     <NA>      194   8.6    69      5   10\n",
       "24    <NA>       66  16.6    57      5   25\n",
       "25    <NA>      266  14.9    58      5   26\n",
       "26    <NA>     <NA>   8.0    57      5   27\n",
       "31    <NA>      286   8.6    78      6    1\n",
       "32    <NA>      287   9.7    74      6    2\n",
       "33    <NA>      242  16.1    67      6    3\n",
       "34    <NA>      186   9.2    84      6    4\n",
       "35    <NA>      220   8.6    85      6    5\n",
       "36    <NA>      264  14.3    79      6    6\n",
       "38    <NA>      273   6.9    87      6    8\n",
       "41    <NA>      259  10.9    93      6   11\n",
       "42    <NA>      250   9.2    92      6   12\n",
       "44    <NA>      332  13.8    80      6   14\n",
       "45    <NA>      322  11.5    79      6   15\n",
       "51    <NA>      150   6.3    77      6   21\n",
       "52    <NA>       59   1.7    76      6   22\n",
       "53    <NA>       91   4.6    76      6   23\n",
       "54    <NA>      250   6.3    76      6   24\n",
       "55    <NA>      135   8.0    75      6   25\n",
       "56    <NA>      127   8.0    78      6   26\n",
       "57    <NA>       47  10.3    73      6   27\n",
       "58    <NA>       98  11.5    80      6   28\n",
       "59    <NA>       31  14.9    77      6   29\n",
       "60    <NA>      138   8.0    83      6   30\n",
       "64    <NA>      101  10.9    84      7    4\n",
       "71    <NA>      139   8.6    82      7   11\n",
       "74    <NA>      291  14.9    91      7   14\n",
       "82    <NA>      258   9.7    81      7   22\n",
       "83    <NA>      295  11.5    82      7   23\n",
       "101   <NA>      222   8.6    92      8   10\n",
       "102   <NA>      137  11.5    86      8   11\n",
       "106   <NA>       64  11.5    79      8   15\n",
       "114   <NA>      255  12.6    75      8   23\n",
       "118   <NA>      153   5.7    88      8   27\n",
       "149   <NA>      145  13.2    77      9   27"
      ]
     },
     "execution_count": 14,
     "metadata": {},
     "output_type": "execute_result"
    }
   ],
   "source": [
    "airquality[ airquality['Ozone'].isna() ]"
   ]
  },
  {
   "cell_type": "code",
   "execution_count": 15,
   "metadata": {},
   "outputs": [
    {
     "data": {
      "text/plain": [
       "(37, 6)"
      ]
     },
     "execution_count": 15,
     "metadata": {},
     "output_type": "execute_result"
    }
   ],
   "source": [
    "airquality[ airquality['Ozone'].isna() ].shape"
   ]
  },
  {
   "cell_type": "code",
   "execution_count": 19,
   "metadata": {},
   "outputs": [
    {
     "data": {
      "text/plain": [
       "count    116.000000\n",
       "mean      42.129310\n",
       "std       32.987885\n",
       "min        1.000000\n",
       "25%       18.000000\n",
       "50%       31.500000\n",
       "75%       63.250000\n",
       "max      168.000000\n",
       "Name: Ozone, dtype: float64"
      ]
     },
     "execution_count": 19,
     "metadata": {},
     "output_type": "execute_result"
    }
   ],
   "source": [
    "airquality['Ozone'].describe()"
   ]
  },
  {
   "cell_type": "code",
   "execution_count": 55,
   "metadata": {},
   "outputs": [
    {
     "data": {
      "text/plain": [
       "array([ 41.,  36.,  12.,  18.,  28.,  23.,  19.,   8.,   7.,  16.,  11.,\n",
       "        14.,  18.,  14.,  34.,   6.,  30.,  11.,   1.,  11.,   4.,  32.,\n",
       "        23.,  45., 115.,  37.,  29.,  71.,  39.,  23.,  21.,  37.,  20.,\n",
       "        12.,  13., 135.,  49.,  32.,  64.,  40.,  77.,  97.,  97.,  85.,\n",
       "        10.,  27.,   7.,  48.,  35.,  61.,  79.,  63.,  16.,  80., 108.,\n",
       "        20.,  52.,  82.,  50.,  64.,  59.,  39.,   9.,  16.,  78.,  35.,\n",
       "        66., 122.,  89., 110.,  44.,  28.,  65.,  22.,  59.,  23.,  31.,\n",
       "        44.,  21.,   9.,  45., 168.,  73.,  76., 118.,  84.,  85.,  96.,\n",
       "        78.,  73.,  91.,  47.,  32.,  20.,  23.,  21.,  24.,  44.,  21.,\n",
       "        28.,   9.,  13.,  46.,  18.,  13.,  24.,  16.,  13.,  23.,  36.,\n",
       "         7.,  14.,  30.,  14.,  18.,  20.])"
      ]
     },
     "execution_count": 55,
     "metadata": {},
     "output_type": "execute_result"
    }
   ],
   "source": [
    "ozone_values = airquality['Ozone'].dropna().astype(float).to_numpy()\n",
    "ozone_values"
   ]
  },
  {
   "cell_type": "code",
   "execution_count": 59,
   "metadata": {},
   "outputs": [
    {
     "data": {
      "text/plain": [
       "''"
      ]
     },
     "execution_count": 59,
     "metadata": {},
     "output_type": "execute_result"
    },
    {
     "data": {
      "image/png": "[encoded data removed]",
      "text/plain": [
       "<Figure size 1080x360 with 1 Axes>"
      ]
     },
     "metadata": {
      "needs_background": "light"
     },
     "output_type": "display_data"
    }
   ],
   "source": [
    "plt.figure(figsize=(15,5))\n",
    "plt.hist(ozone_values,bins=50)\n",
    "plt.axvline(x=np.mean(ozone_values),c='green')\n",
    "plt.axvline(x=np.percentile(ozone_values,25), c='red')\n",
    "plt.axvline(x=np.percentile(ozone_values,50), c='red')\n",
    "plt.axvline(x=np.percentile(ozone_values,75), c='red')\n",
    ";"
   ]
  },
  {
   "cell_type": "code",
   "execution_count": 60,
   "metadata": {},
   "outputs": [
    {
     "data": {
      "text/plain": [
       "<matplotlib.axes._subplots.AxesSubplot at 0x7f45c77e2cd0>"
      ]
     },
     "execution_count": 60,
     "metadata": {},
     "output_type": "execute_result"
    },
    {
     "data": {
      "image/png": "[encoded data removed]",
      "text/plain": [
       "<Figure size 432x288 with 1 Axes>"
      ]
     },
     "metadata": {
      "needs_background": "light"
     },
     "output_type": "display_data"
    }
   ],
   "source": [
    "sns.distplot(airquality['Ozone'].dropna().astype(float))"
   ]
  },
  {
   "cell_type": "markdown",
   "metadata": {},
   "source": [
    "According to these results, there are so many NaNs in *Ozone* column to just ignore or drop them. To fill them with the mean is not a option either as there is so many variance and extrem high values that seems to be anomalies. As we are working with a time series and each observation represents a concat day, fill NaNs with the first previous or following number might be a better option. Maybe, a better idea would be to fill them with the mean of the previous and the following value. "
   ]
  },
  {
   "cell_type": "markdown",
   "metadata": {},
   "source": [
    "#### NaNs *'Solar.R'* column"
   ]
  },
  {
   "cell_type": "code",
   "execution_count": 16,
   "metadata": {},
   "outputs": [
    {
     "data": {
      "text/html": [
       "<div>\n",
       "<style scoped>\n",
       "    .dataframe tbody tr th:only-of-type {\n",
       "        vertical-align: middle;\n",
       "    }\n",
       "\n",
       "    .dataframe tbody tr th {\n",
       "        vertical-align: top;\n",
       "    }\n",
       "\n",
       "    .dataframe thead th {\n",
       "        text-align: right;\n",
       "    }\n",
       "</style>\n",
       "<table border=\"1\" class=\"dataframe\">\n",
       "  <thead>\n",
       "    <tr style=\"text-align: right;\">\n",
       "      <th></th>\n",
       "      <th>Ozone</th>\n",
       "      <th>Solar.R</th>\n",
       "      <th>Wind</th>\n",
       "      <th>Temp</th>\n",
       "      <th>Month</th>\n",
       "      <th>Day</th>\n",
       "    </tr>\n",
       "  </thead>\n",
       "  <tbody>\n",
       "    <tr>\n",
       "      <th>4</th>\n",
       "      <td>&lt;NA&gt;</td>\n",
       "      <td>&lt;NA&gt;</td>\n",
       "      <td>14.3</td>\n",
       "      <td>56</td>\n",
       "      <td>5</td>\n",
       "      <td>5</td>\n",
       "    </tr>\n",
       "    <tr>\n",
       "      <th>5</th>\n",
       "      <td>28</td>\n",
       "      <td>&lt;NA&gt;</td>\n",
       "      <td>14.9</td>\n",
       "      <td>66</td>\n",
       "      <td>5</td>\n",
       "      <td>6</td>\n",
       "    </tr>\n",
       "    <tr>\n",
       "      <th>10</th>\n",
       "      <td>7</td>\n",
       "      <td>&lt;NA&gt;</td>\n",
       "      <td>6.9</td>\n",
       "      <td>74</td>\n",
       "      <td>5</td>\n",
       "      <td>11</td>\n",
       "    </tr>\n",
       "    <tr>\n",
       "      <th>26</th>\n",
       "      <td>&lt;NA&gt;</td>\n",
       "      <td>&lt;NA&gt;</td>\n",
       "      <td>8.0</td>\n",
       "      <td>57</td>\n",
       "      <td>5</td>\n",
       "      <td>27</td>\n",
       "    </tr>\n",
       "    <tr>\n",
       "      <th>95</th>\n",
       "      <td>78</td>\n",
       "      <td>&lt;NA&gt;</td>\n",
       "      <td>6.9</td>\n",
       "      <td>86</td>\n",
       "      <td>8</td>\n",
       "      <td>4</td>\n",
       "    </tr>\n",
       "    <tr>\n",
       "      <th>96</th>\n",
       "      <td>35</td>\n",
       "      <td>&lt;NA&gt;</td>\n",
       "      <td>7.4</td>\n",
       "      <td>85</td>\n",
       "      <td>8</td>\n",
       "      <td>5</td>\n",
       "    </tr>\n",
       "    <tr>\n",
       "      <th>97</th>\n",
       "      <td>66</td>\n",
       "      <td>&lt;NA&gt;</td>\n",
       "      <td>4.6</td>\n",
       "      <td>87</td>\n",
       "      <td>8</td>\n",
       "      <td>6</td>\n",
       "    </tr>\n",
       "  </tbody>\n",
       "</table>\n",
       "</div>"
      ],
      "text/plain": [
       "    Ozone  Solar.R  Wind  Temp  Month  Day\n",
       "4    <NA>     <NA>  14.3    56      5    5\n",
       "5      28     <NA>  14.9    66      5    6\n",
       "10      7     <NA>   6.9    74      5   11\n",
       "26   <NA>     <NA>   8.0    57      5   27\n",
       "95     78     <NA>   6.9    86      8    4\n",
       "96     35     <NA>   7.4    85      8    5\n",
       "97     66     <NA>   4.6    87      8    6"
      ]
     },
     "execution_count": 16,
     "metadata": {},
     "output_type": "execute_result"
    }
   ],
   "source": [
    "airquality[ airquality['Solar.R'].isna() ]"
   ]
  },
  {
   "cell_type": "code",
   "execution_count": 18,
   "metadata": {},
   "outputs": [
    {
     "data": {
      "text/plain": [
       "(7, 6)"
      ]
     },
     "execution_count": 18,
     "metadata": {},
     "output_type": "execute_result"
    }
   ],
   "source": [
    "airquality[ airquality['Solar.R'].isna() ].shape"
   ]
  },
  {
   "cell_type": "code",
   "execution_count": 20,
   "metadata": {},
   "outputs": [
    {
     "data": {
      "text/plain": [
       "count    146.000000\n",
       "mean     185.931507\n",
       "std       90.058422\n",
       "min        7.000000\n",
       "25%      115.750000\n",
       "50%      205.000000\n",
       "75%      258.750000\n",
       "max      334.000000\n",
       "Name: Solar.R, dtype: float64"
      ]
     },
     "execution_count": 20,
     "metadata": {},
     "output_type": "execute_result"
    }
   ],
   "source": [
    "airquality['Solar.R'].describe()"
   ]
  },
  {
   "cell_type": "code",
   "execution_count": 61,
   "metadata": {},
   "outputs": [
    {
     "data": {
      "text/plain": [
       "array([190., 118., 149., 313., 299.,  99.,  19., 194., 256., 290., 274.,\n",
       "        65., 334., 307.,  78., 322.,  44.,   8., 320.,  25.,  92.,  66.,\n",
       "       266.,  13., 252., 223., 279., 286., 287., 242., 186., 220., 264.,\n",
       "       127., 273., 291., 323., 259., 250., 148., 332., 322., 191., 284.,\n",
       "        37., 120., 137., 150.,  59.,  91., 250., 135., 127.,  47.,  98.,\n",
       "        31., 138., 269., 248., 236., 101., 175., 314., 276., 267., 272.,\n",
       "       175., 139., 264., 175., 291.,  48., 260., 274., 285., 187., 220.,\n",
       "         7., 258., 295., 294., 223.,  81.,  82., 213., 275., 253., 254.,\n",
       "        83.,  24.,  77., 255., 229., 207., 222., 137., 192., 273., 157.,\n",
       "        64.,  71.,  51., 115., 244., 190., 259.,  36., 255., 212., 238.,\n",
       "       215., 153., 203., 225., 237., 188., 167., 197., 183., 189.,  95.,\n",
       "        92., 252., 220., 230., 259., 236., 259., 238.,  24., 112., 237.,\n",
       "       224.,  27., 238., 201., 238.,  14., 139.,  49.,  20., 193., 145.,\n",
       "       191., 131., 223.])"
      ]
     },
     "execution_count": 61,
     "metadata": {},
     "output_type": "execute_result"
    }
   ],
   "source": [
    "rsolar_values = airquality['Solar.R'].dropna().astype(float).to_numpy()\n",
    "rsolar_values"
   ]
  },
  {
   "cell_type": "code",
   "execution_count": 62,
   "metadata": {},
   "outputs": [
    {
     "data": {
      "text/plain": [
       "''"
      ]
     },
     "execution_count": 62,
     "metadata": {},
     "output_type": "execute_result"
    },
    {
     "data": {
      "image/png": "[encoded data removed]",
      "text/plain": [
       "<Figure size 1080x360 with 1 Axes>"
      ]
     },
     "metadata": {
      "needs_background": "light"
     },
     "output_type": "display_data"
    }
   ],
   "source": [
    "plt.figure(figsize=(15,5))\n",
    "plt.hist(rsolar_values,bins=50)\n",
    "plt.axvline(x=np.mean(rsolar_values),c='green')\n",
    "plt.axvline(x=np.percentile(rsolar_values,25), c='red')\n",
    "plt.axvline(x=np.percentile(rsolar_values,50), c='red')\n",
    "plt.axvline(x=np.percentile(rsolar_values,75), c='red')\n",
    ";"
   ]
  },
  {
   "cell_type": "code",
   "execution_count": 63,
   "metadata": {},
   "outputs": [
    {
     "name": "stderr",
     "output_type": "stream",
     "text": [
      "/home/dsc/anaconda3/lib/python3.7/site-packages/scipy/stats/stats.py:1713: FutureWarning: Using a non-tuple sequence for multidimensional indexing is deprecated; use `arr[tuple(seq)]` instead of `arr[seq]`. In the future this will be interpreted as an array index, `arr[np.array(seq)]`, which will result either in an error or a different result.\n",
      "  return np.add.reduce(sorted[indexer] * weights, axis=axis) / sumval\n"
     ]
    },
    {
     "data": {
      "text/plain": [
       "<matplotlib.axes._subplots.AxesSubplot at 0x7f45c9994410>"
      ]
     },
     "execution_count": 63,
     "metadata": {},
     "output_type": "execute_result"
    },
    {
     "data": {
      "image/png": "[encoded data removed]",
      "text/plain": [
       "<Figure size 432x288 with 1 Axes>"
      ]
     },
     "metadata": {
      "needs_background": "light"
     },
     "output_type": "display_data"
    }
   ],
   "source": [
    "sns.distplot(airquality['Solar.R'].dropna().astype(float))"
   ]
  },
  {
   "cell_type": "markdown",
   "metadata": {},
   "source": [
    "In this case, there is not so much NaNs (only 7). Anyway, dropping these rows would affect *'Ozone'* column if it is done before filling NaNs. Filling with the mean does not seem right as variance stays high and there is a clearly bias on data. As in the *'Ozone'* case, filling NaNs with the previous or following values (or the mean of the two of them) seems to be a better option."
   ]
  },
  {
   "cell_type": "code",
   "execution_count": null,
   "metadata": {},
   "outputs": [],
   "source": []
  }
 ],
 "metadata": {
  "kernelspec": {
   "display_name": "Python 3",
   "language": "python",
   "name": "python3"
  },
  "language_info": {
   "codemirror_mode": {
    "name": "ipython",
    "version": 3
   },
   "file_extension": ".py",
   "mimetype": "text/x-python",
   "name": "python",
   "nbconvert_exporter": "python",
   "pygments_lexer": "ipython3",
   "version": "3.7.8"
  },
  "toc": {
   "base_numbering": 1,
   "nav_menu": {},
   "number_sections": true,
   "sideBar": true,
   "skip_h1_title": false,
   "title_cell": "Table of Contents",
   "title_sidebar": "Contents",
   "toc_cell": false,
   "toc_position": {},
   "toc_section_display": true,
   "toc_window_display": false
  },
  "varInspector": {
   "cols": {
    "lenName": 16,
    "lenType": 16,
    "lenVar": 40
   },
   "kernels_config": {
    "python": {
     "delete_cmd_postfix": "",
     "delete_cmd_prefix": "del ",
     "library": "var_list.py",
     "varRefreshCmd": "print(var_dic_list())"
    },
    "r": {
     "delete_cmd_postfix": ") ",
     "delete_cmd_prefix": "rm(",
     "library": "var_list.r",
     "varRefreshCmd": "cat(var_dic_list()) "
    }
   },
   "types_to_exclude": [
    "module",
    "function",
    "builtin_function_or_method",
    "instance",
    "_Feature"
   ],
   "window_display": false
  }
 },
 "nbformat": 4,
 "nbformat_minor": 2
}
